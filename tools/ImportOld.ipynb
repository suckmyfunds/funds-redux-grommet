{
 "cells": [
  {
   "cell_type": "code",
   "execution_count": 1,
   "id": "9dbf753b-2388-4371-a545-ea544c7f9338",
   "metadata": {
    "tags": []
   },
   "outputs": [
    {
     "name": "stdout",
     "output_type": "stream",
     "text": [
      "Еда 15\n",
      "Домхоз 15\n",
      "Подарки 15\n",
      "Кот 15\n",
      "Развлечения 15\n",
      "Конь 15\n",
      "Машина 15\n",
      "Медицина 15\n",
      "Отбираловка 15\n",
      "Собака 15\n",
      "Хобби 15\n"
     ]
    }
   ],
   "source": [
    "import pandas as pd\n",
    "\n",
    "def extract_row(row):\n",
    "    transactions = []\n",
    "    for s, d in [(f\"s{i}\",f\"d{i}\") for i in range(1,6)]:\n",
    "        transactions.append((row[\"Date\"], row[s], row[d]))\n",
    "    return transactions\n",
    "\n",
    "\n",
    "def find_last_update_date(df):\n",
    "    return df[df[\"s1\"].notna()][\"Date\"]\n",
    "\n",
    "    \n",
    "def spends_on_date(df,dat):\n",
    "    return df[(df[\"Date\"] == dat) & df[\"s1\"].notnull() & (df[\"s1\"] > 0)]\n",
    "\n",
    "\n",
    "def find_spend_on_date(date):\n",
    "    for name, df in sheet_to_df_map.items():\n",
    "        d = spends_on_date(df, date)\n",
    "        if not d.empty:  \n",
    "            d = d.iloc[0]\n",
    "            print(\"=\"*80)\n",
    "            print(name, d.dropna())\n",
    "            print(\"=\"*80)\n",
    "            \n",
    "\n",
    "cols = [\"Date\", \"balance\", 's1', 'd1', 's2', 'd2', 's3', 'd3', 's4', 'd4', 's5', 'd5', 's6', 'd6', 's7', 'd7'] \n",
    "xls = pd.ExcelFile('./source.xlsx')\n",
    "sheet_to_df_map = {}\n",
    "for sheet_name in xls.sheet_names:\n",
    "    if sheet_name in [\"Sheet1\", \"Аня ДР\", \"На дом\", \"Бизнес\"]:\n",
    "        continue\n",
    "    df = xls.parse(sheet_name, parse_dates=True, names=cols, header=None)\n",
    "    df = df.drop(0)\n",
    "    df = df.drop('balance', axis=1)\n",
    "    sheet_to_df_map[sheet_name] = df\n",
    "    \n",
    "fund_names = list(sheet_to_df_map.keys())\n",
    "\n",
    "for name in fund_names: \n",
    "    df = sheet_to_df_map[name]\n",
    "    print(name, (df.shape[1]))"
   ]
  },
  {
   "cell_type": "markdown",
   "id": "d96c2f73-8be2-49f3-9a7c-ee65f0d4879d",
   "metadata": {},
   "source": [
    "# Prompt to Codeium\n",
    "\n",
    "I have a dataset with columns [\"Date\", \"balance\", 's1', 'd1', 's2', 'd2', 's3', 'd3', 's4', 'd4', 's5', 'd5', 's6', 'd6', 's7', 'd7']. Each row in dataset is a transactions up to 7 of them on same date. Date column is a date of transactions. Columns \"sN\" (N means number fom 1 to 7) is a transaction amount. Columns \"dN\" (N means number from 1 to 7) is a transaction description. So, is \"s1\" contains a number on some row, it means that on this row and it's date there was 1 transaction with amount in \"s1\" and description on \"d1\". If there \"s2\" number present - it's a second transaction on same date with description in \"d2\". Write a code that split such grouping to new dataset with columns [\"amount\", \"date\", \"description\"]. If you meet a row with s1 filled and s2 filled, then you should create 2 rows in new dataset with same date, where first row will be filled by this columns mapping \"Date\" -> \"date\", \"s1\" -> \"amount\", \"d1\" -> \"description\" and second row which will be filled by this columns mapping \"Date\" -> \"date\", \"s2\" -> \"amount\", \"d2\" -> \"description\". Describe step by step why you wrote each code line."
   ]
  },
  {
   "cell_type": "code",
   "execution_count": 2,
   "id": "c63e9a16-8590-4f57-aa52-14e1501d6b1a",
   "metadata": {},
   "outputs": [],
   "source": [
    "def convert_to_new(df):\n",
    "    # Create a list to store the transformed data\n",
    "    transformed_data = []\n",
    "\n",
    "    # Iterate over each row in the DataFrame\n",
    "    for index, row in df.iterrows():\n",
    "        # Iterate over the transactions (pair of amount and description)\n",
    "        for i in range(1, 8):\n",
    "            try:\n",
    "                amount_col = f\"s{i}\"\n",
    "                desc_col = f\"d{i}\"\n",
    "                # Check if the amount is present in the row\n",
    "                if pd.notnull(row[amount_col]):\n",
    "                    # Append a new row to the transformed data list with the amount, date, and description\n",
    "                    transformed_data.append({\n",
    "                        \"amount\": row[amount_col],\n",
    "                        \"date\": row[\"Date\"].strftime('%d.%m.%Y'),\n",
    "                        \"description\": row[desc_col],\n",
    "                        \"synced\": True\n",
    "                    })\n",
    "            except Exception as exc:\n",
    "                print(f\"catch error when processing row {index} and spend {i}\", exc)\n",
    "\n",
    "    # Create a new DataFrame from the transformed data list\n",
    "    return pd.DataFrame(transformed_data)"
   ]
  },
  {
   "cell_type": "code",
   "execution_count": 3,
   "id": "15281071-76d0-4950-9fd5-6ee1e6375558",
   "metadata": {
    "tags": []
   },
   "outputs": [],
   "source": [
    "find_spend_on_date(\"2023-9-3\")"
   ]
  },
  {
   "cell_type": "code",
   "execution_count": 3,
   "id": "cb217bc8-7082-44a5-9dc5-bca6c50d144e",
   "metadata": {
    "tags": []
   },
   "outputs": [
    {
     "name": "stdout",
     "output_type": "stream",
     "text": [
      "converting Еда\n",
      "converting Домхоз\n",
      "converting Подарки\n",
      "converting Кот\n",
      "converting Развлечения\n",
      "converting Конь\n",
      "converting Машина\n",
      "converting Медицина\n",
      "converting Отбираловка\n",
      "converting Собака\n",
      "converting Хобби\n"
     ]
    }
   ],
   "source": [
    "new_dfs = {}\n",
    "for name, df in sheet_to_df_map.items():\n",
    "    print(f\"converting {name}\")\n",
    "    new_dfs[name] = convert_to_new(df)"
   ]
  },
  {
   "cell_type": "code",
   "execution_count": 4,
   "id": "524ab074-0a95-48ae-ade3-efe8d68749df",
   "metadata": {
    "tags": []
   },
   "outputs": [
    {
     "name": "stdout",
     "output_type": "stream",
     "text": [
      "           name                          balance\n",
      "0           Еда    =SUM(INDIRECT($A2&\"!$A2:$A\"))\n",
      "1        Домхоз    =SUM(INDIRECT($A3&\"!$A3:$A\"))\n",
      "2       Подарки    =SUM(INDIRECT($A4&\"!$A4:$A\"))\n",
      "3           Кот    =SUM(INDIRECT($A5&\"!$A5:$A\"))\n",
      "4   Развлечения    =SUM(INDIRECT($A6&\"!$A6:$A\"))\n",
      "5          Конь    =SUM(INDIRECT($A7&\"!$A7:$A\"))\n",
      "6        Машина    =SUM(INDIRECT($A8&\"!$A8:$A\"))\n",
      "7      Медицина    =SUM(INDIRECT($A9&\"!$A9:$A\"))\n",
      "8   Отбираловка  =SUM(INDIRECT($A10&\"!$A10:$A\"))\n",
      "9        Собака  =SUM(INDIRECT($A11&\"!$A11:$A\"))\n",
      "10        Хобби  =SUM(INDIRECT($A12&\"!$A12:$A\"))\n"
     ]
    }
   ],
   "source": [
    "funds_df = pd.DataFrame([\n",
    "    {\"name\": name, \"budget\": 0, \"balance\": f'=SUM(INDIRECT($A{idx+2}&\"!$A2:$A\"))', \"needSync\": f'=NOT(XLOOKUP(FALSE;INDIRECT($A{idx+2}&\"!$D2:$D\");INDIRECT($A{idx+2}&\"!$D2:$D\");TRUE))'} for idx,name in enumerate(fund_names)\n",
    "])\n",
    "\n",
    "print(funds_df[[\"name\", \"balance\"]])"
   ]
  },
  {
   "cell_type": "code",
   "execution_count": 5,
   "id": "97e9d3ce-af5a-400f-a373-dbb704d85b57",
   "metadata": {
    "tags": []
   },
   "outputs": [],
   "source": [
    "#\n",
    "with pd.ExcelWriter('output_file.xlsx') as writer:\n",
    "    for name, df in new_dfs.items():\n",
    "        df.to_excel(writer, sheet_name=name, index=False)\n",
    "    funds_df.to_excel(writer,sheet_name='Funds', index=False)"
   ]
  }
 ],
 "metadata": {
  "kernelspec": {
   "display_name": "Python 3 (ipykernel)",
   "language": "python",
   "name": "python3"
  },
  "language_info": {
   "codemirror_mode": {
    "name": "ipython",
    "version": 3
   },
   "file_extension": ".py",
   "mimetype": "text/x-python",
   "name": "python",
   "nbconvert_exporter": "python",
   "pygments_lexer": "ipython3",
   "version": "3.8.10"
  }
 },
 "nbformat": 4,
 "nbformat_minor": 5
}
